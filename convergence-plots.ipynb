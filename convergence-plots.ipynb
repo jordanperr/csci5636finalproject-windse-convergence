{
 "cells": [
  {
   "cell_type": "markdown",
   "metadata": {},
   "source": [
    "# Convergence Plots\n",
    "**Jordan Perr-Sauer, CSCI5636, Fall 2021**\n",
    "\n",
    "Prereqs:\n",
    "- Run  `convergence-2D-3-Turbine-*x.yaml` in WindSE so the output files are in the ./output directory"
   ]
  },
  {
   "cell_type": "code",
   "execution_count": 25,
   "metadata": {},
   "outputs": [],
   "source": [
    "import pandas as pd\n",
    "import seaborn as sns\n",
    "import matplotlib.pyplot as plt\n",
    "import glob"
   ]
  },
  {
   "cell_type": "code",
   "execution_count": 14,
   "metadata": {},
   "outputs": [],
   "source": [
    "def load_single_file(path):\n",
    "    df = pd.read_csv(path, header=None, skiprows=[0], sep=\" \")\n",
    "    df.columns = [\"time\", \"Turbine 1\", \"Turbine 2\", \"Turbine 3\", \"sum\"]\n",
    "    df[\"path\"] = path\n",
    "    return df\n",
    "\n",
    "df = pd.concat(map(load_single_file, glob.glob(\"./output/2_5D_Wind_Farm*/data/2d_power_data.txt\")))"
   ]
  },
  {
   "cell_type": "code",
   "execution_count": 21,
   "metadata": {},
   "outputs": [
    {
     "data": {
      "text/html": [
       "<div>\n",
       "<style scoped>\n",
       "    .dataframe tbody tr th:only-of-type {\n",
       "        vertical-align: middle;\n",
       "    }\n",
       "\n",
       "    .dataframe tbody tr th {\n",
       "        vertical-align: top;\n",
       "    }\n",
       "\n",
       "    .dataframe thead th {\n",
       "        text-align: right;\n",
       "    }\n",
       "</style>\n",
       "<table border=\"1\" class=\"dataframe\">\n",
       "  <thead>\n",
       "    <tr style=\"text-align: right;\">\n",
       "      <th></th>\n",
       "      <th>time</th>\n",
       "      <th>Turbine 1</th>\n",
       "      <th>Turbine 2</th>\n",
       "      <th>Turbine 3</th>\n",
       "      <th>sum</th>\n",
       "      <th>path</th>\n",
       "      <th>refinements</th>\n",
       "    </tr>\n",
       "  </thead>\n",
       "  <tbody>\n",
       "    <tr>\n",
       "      <th>0</th>\n",
       "      <td>0.0</td>\n",
       "      <td>1.696834e+06</td>\n",
       "      <td>774012.718792</td>\n",
       "      <td>478355.060692</td>\n",
       "      <td>2.949201e+06</td>\n",
       "      <td>./output/2_5D_Wind_Farm_0x/data/2d_power_data.txt</td>\n",
       "      <td>0</td>\n",
       "    </tr>\n",
       "    <tr>\n",
       "      <th>0</th>\n",
       "      <td>0.0</td>\n",
       "      <td>1.709622e+06</td>\n",
       "      <td>776387.599224</td>\n",
       "      <td>478380.368948</td>\n",
       "      <td>2.964390e+06</td>\n",
       "      <td>./output/2_5D_Wind_Farm_1x/data/2d_power_data.txt</td>\n",
       "      <td>1</td>\n",
       "    </tr>\n",
       "    <tr>\n",
       "      <th>0</th>\n",
       "      <td>0.0</td>\n",
       "      <td>1.710767e+06</td>\n",
       "      <td>776694.146440</td>\n",
       "      <td>478368.779953</td>\n",
       "      <td>2.965830e+06</td>\n",
       "      <td>./output/2_5D_Wind_Farm_2x/data/2d_power_data.txt</td>\n",
       "      <td>2</td>\n",
       "    </tr>\n",
       "  </tbody>\n",
       "</table>\n",
       "</div>"
      ],
      "text/plain": [
       "   time     Turbine 1      Turbine 2      Turbine 3           sum  \\\n",
       "0   0.0  1.696834e+06  774012.718792  478355.060692  2.949201e+06   \n",
       "0   0.0  1.709622e+06  776387.599224  478380.368948  2.964390e+06   \n",
       "0   0.0  1.710767e+06  776694.146440  478368.779953  2.965830e+06   \n",
       "\n",
       "                                                path  refinements  \n",
       "0  ./output/2_5D_Wind_Farm_0x/data/2d_power_data.txt            0  \n",
       "0  ./output/2_5D_Wind_Farm_1x/data/2d_power_data.txt            1  \n",
       "0  ./output/2_5D_Wind_Farm_2x/data/2d_power_data.txt            2  "
      ]
     },
     "execution_count": 21,
     "metadata": {},
     "output_type": "execute_result"
    }
   ],
   "source": [
    "df[\"refinements\"] = df[\"path\"].str.extract(r'_(\\d+)x').astype(\"int\")\n",
    "df"
   ]
  },
  {
   "cell_type": "code",
   "execution_count": 27,
   "metadata": {},
   "outputs": [
    {
     "data": {
      "text/plain": [
       "Text(0, 0.5, 'Power')"
      ]
     },
     "execution_count": 27,
     "metadata": {},
     "output_type": "execute_result"
    },
    {
     "data": {
      "image/png": "[encoded data removed]",
      "text/plain": [
       "<Figure size 432x288 with 1 Axes>"
      ]
     },
     "metadata": {
      "needs_background": "light"
     },
     "output_type": "display_data"
    }
   ],
   "source": [
    "df.plot.line(x=\"refinements\", y=\"sum\")\n",
    "plt.xlabel(\"Number of Refinements\")\n",
    "plt.ylabel(\"Power\")"
   ]
  },
  {
   "cell_type": "code",
   "execution_count": null,
   "metadata": {},
   "outputs": [],
   "source": []
  }
 ],
 "metadata": {
  "interpreter": {
   "hash": "e967ad857e3c9caf7179cb511c9fb36ad01c95211ad4dd06af1201905765116d"
  },
  "kernelspec": {
   "display_name": "Python 3.8.12 64-bit ('windse_env': conda)",
   "language": "python",
   "name": "python3"
  },
  "language_info": {
   "codemirror_mode": {
    "name": "ipython",
    "version": 3
   },
   "file_extension": ".py",
   "mimetype": "text/x-python",
   "name": "python",
   "nbconvert_exporter": "python",
   "pygments_lexer": "ipython3",
   "version": "3.7.9"
  },
  "orig_nbformat": 4
 },
 "nbformat": 4,
 "nbformat_minor": 2
}
